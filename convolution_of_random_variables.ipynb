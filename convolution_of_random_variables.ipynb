{
 "cells": [
  {
   "cell_type": "markdown",
   "id": "c11e677d",
   "metadata": {},
   "source": [
    "# Convolution of Random Variables"
   ]
  },
  {
   "cell_type": "markdown",
   "id": "62f60c3c",
   "metadata": {},
   "source": [
    "Seien $X$ und $Y$ Zufallsgrößen mit gemeinsamer Dichte (Wahrscheinlichkeitsfunktion) $\\mathrm{f}$ und $Z:=X+Y$.\n",
    "\n",
    "### Diskrete Zufallsvariablen\n",
    "Für $X$ und $Y$ diskret mit Träger in den natürlichen Zahlen gilt:\n",
    "$$\n",
    "P(Z=n)=\\sum_{k=0}^{n} f(n-k, k)\n",
    "$$"
   ]
  },
  {
   "cell_type": "markdown",
   "id": "407b8395",
   "metadata": {},
   "source": [
    "### Beispiel Diskrete Zufallsvariable\n",
    "#### Aufgabe (Poissonverteilung)\n",
    "\n",
    "$X$ und $Y$ seien unabhängig und Poisson-verteilt mit den Parametern $\\lambda_{X}$ bzw. $\\lambda_{Y}$.\n",
    "(a) Bestimmen Sie die Verteilung von $X+Y$. Nutzen Sie dafür die Darstellung als Faltung.\n",
    "\n",
    "\n",
    "Unter Verwendung der Darstellung als Faltung erhalten wir:\n",
    "$$\n",
    "\\begin{aligned}\n",
    "P(X+Y=n) &=\\sum_{k=0}^{n} P(X=k, Y=n-k) \\\\\n",
    "& \\stackrel{\\text { Uabh. }}{=} \\sum_{k=0}^{n} P(X=k) P(Y=n-k) .\n",
    "\\end{aligned}\n",
    "$$\n",
    "Nun folgt für $n \\notin \\mathbb{N}_{0}$ (falls Poisson $f$ Wahrscheinlichkeit = 0) folgt\n",
    "$$\n",
    "P(X+Y=n)=\\sum_{k=0}^{n} P(X=k) P(Y=n-k)=0 .\n",
    "$$\n",
    "\n",
    "\n",
    "Für $n \\in \\mathbb{N}_{0}$ \n",
    "$$\n",
    "\\begin{aligned}\n",
    "P(X+Y=n) &=\\sum_{k=0}^{n} e^{-\\lambda_{X}} \\frac{\\lambda_{X}^{k}}{k !} e^{-\\lambda_{Y}} \\frac{\\lambda_{Y}^{n-k}}{(n-k) !} \\\\\n",
    "&=\\frac{e^{-\\left(\\lambda_{X}+\\lambda_{Y}\\right)}}{n !} \\sum_{k=0}^{n}\\left(\\begin{array}{l}\n",
    "n \\\\\n",
    "k\n",
    "\\end{array}\\right) \\lambda_{X}^{k} \\lambda_{Y}^{n-k}\n",
    "\\end{aligned}\n",
    "$$\n",
    "\n",
    "$$                                              =\\frac{e^{-\\left(\\lambda_{X}+\\lambda_{Y}\\right)}}{n !}\\left(\\lambda_{X}+\\lambda_{Y}\\right)^{n} \\quad$$ \n",
    "\n",
    "(siehe binomischer Lehrsatz).\n",
    "$X+Y$ ist daher Poisson-verteilt zum Parameter $\\lambda_{X}+\\lambda_{Y}$."
   ]
  },
  {
   "cell_type": "markdown",
   "id": "6ddbd155",
   "metadata": {},
   "source": [
    "### Stetige Zufallsvariablen\n",
    "Sind $X, Y$ stetig mit gemeinsamer Dichte $f$\n",
    "$$\n",
    "f_{Z}(z)=\\int_{-\\infty}^{\\infty} f(z-s, s) d s\n",
    "$$\n",
    "Im Fall der Unabhängigkeit gilt:\n",
    "$$\n",
    "f_{Z}(z)=\\int_{-\\infty}^{\\infty} f_{X}(z-s) f_{Y}(s) d s\n",
    "$$\n",
    "$f_{Z}$ heißt auch Faltung von $f_{X}$ und $f_{Y}$\n",
    "$$\n",
    "f_{Z}:=f_{X} * f_{Y}\n",
    "$$"
   ]
  },
  {
   "cell_type": "markdown",
   "id": "a4b9258b",
   "metadata": {},
   "source": [
    "### Beispiel stetige Zufallsvariable\n",
    "#### [Aufgabe](https://math.stackexchange.com/questions/1355980/sum-of-two-continuous-random-variables)\n",
    "\n",
    "Consider two independent random variables $X$ and $Y$. \n",
    "\n",
    "Let\n",
    "$$\n",
    "f_{X}(x)=\\left\\{\\begin{array}{ll}\n",
    "1-x / 2, & \\text { if } 0 \\leq x \\leq 2 \\\\\n",
    "0, & \\text { otherwise }\n",
    "\\end{array}\\right.\n",
    "$$\n",
    "\n",
    "Let\n",
    "$$\n",
    "f_{Y}(y)=\\left\\{\\begin{array}{ll}\n",
    "2-2 y, & \\text { if } 0 \\leq y \\leq 1 \\\\\n",
    "0, & \\text { otherwise }\n",
    "\\end{array}\\right.\n",
    "$$\n",
    "\n",
    "Find the probability density function of $Z:= X+Y$.\n",
    "\n",
    "**Consider the following cases:**\n",
    "\n",
    "#### If 0 ≤ z ≤ 1 :\n",
    "\n",
    "$$\n",
    "\\begin{aligned} f_{Z}(z) &=\\int_{x=0}^{z} f_{X}(x) f_{Y}(z-x) d x \\\\ &=\\int_{x=0}^{z}(1-x / 2)(2-2 y) d x \\\\ &=\\left[2 x-2 z x+z x^{2} / 2+x^{2} / 2-x^{3} / 3\\right]_{x=0}^{z} \\\\ &=2 z-\\frac{3}{2} z^{2}+\\frac{1}{6} z^{3} \\end{aligned}\n",
    "$$\n",
    "\n",
    "#### If 1 < z ≤ 2 :\n",
    "\n",
    "$$\n",
    "\\begin{aligned}\n",
    "f_{Z}(z) &=\\int_{x=z-1}^{z} f_{X}(x) f_{Y}(z-x) d x \\\\\n",
    "&=\\int_{x=z-1}^{z}(1-x / 2)(2-2 y) d x \\\\\n",
    "&=\\left[2 x-2 z x+z x^{2} / 2+x^{2} / 2-x^{3} / 3\\right]_{x=z-1}^{z} \\\\\n",
    "&=\\frac{7}{6}-\\frac{1}{2} z\n",
    "\\end{aligned}\n",
    "$$\n",
    "\n",
    "#### If 2 < z ≤ 3 :\n",
    "\n",
    "$$\n",
    "\\begin{aligned}\n",
    "f_{Z}(z) &=\\int_{x=z-1}^{2} f_{X}(x) f_{Y}(z-x) d x \\\\\n",
    "&=\\int_{x=z-1}^{2}(1-x / 2)(2-2 y) d x \\\\\n",
    "&=\\left[2 x-2 z x+z x^{2} / 2+x^{2} / 2-x^{3} / 3\\right]_{x=z-1}^{2} \\\\\n",
    "&=\\frac{9}{2}-\\frac{9}{2} z+\\frac{3}{2} z^{2}-\\frac{1}{6} z^{3}\n",
    "\\end{aligned}\n",
    "$$\n",
    "\n",
    "\n",
    "### Intervallsgrenzen\n",
    "\n",
    "**For $0 \\leq z \\leq 1:$**\n",
    "\n",
    "Here, $x$ must be less than $z$ since $y$ can't be negative. So we must have $0<x<1$. \n",
    "\n",
    "**For $1<z \\leq 2:$**\n",
    "\n",
    "Again, $x$ must be less than $z$ since $y$ can't be negative. Also, since $y<1$, we must have $x$ at least $z-1$. Thus, $z-1<x<z$. \n",
    "\n",
    "**For $2<z \\leq 3:$**\n",
    "\n",
    "Again, since $y<1$, we must have $x$ at least $z-1$. Also, $x$ cannot exceed 2 so that instead of $z$ is the upper limit here. Thus, $z-1<x<2$. I"
   ]
  },
  {
   "cell_type": "markdown",
   "id": "e0ba09f9",
   "metadata": {},
   "source": [
    "### Additional\n",
    "More distributions and examples for continous convolution can be found **[here](https://stats.libretexts.org/Bookshelves/Probability_Theory/Book%3A_Introductory_Probability_(Grinstead_and_Snell)/07%3A_Sums_of_Random_Variables/7.02%3A_Sums_of_Continuous_Random_Variables)**"
   ]
  },
  {
   "cell_type": "markdown",
   "id": "56b8fd81",
   "metadata": {},
   "source": [
    "### Graphic Intuition"
   ]
  },
  {
   "cell_type": "code",
   "execution_count": 8,
   "id": "320ae889",
   "metadata": {},
   "outputs": [
    {
     "name": "stdout",
     "output_type": "stream",
     "text": [
      "Using matplotlib backend: MacOSX\n"
     ]
    }
   ],
   "source": [
    "%matplotlib\n",
    "# Random Variables X and Y\n",
    "x = randn(10000) + randint(0, 2, 10000) * 5\n",
    "y = randn(10000) + randint(0, 2, 10000) * 5\n",
    "\n",
    "fig, axes = plt.subplots(\n",
    "    2, 2, sharex='col', sharey='row',\n",
    "    gridspec_kw={'width_ratios': [1, 0.1], 'height_ratios': [0.1, 1]})\n",
    "\n",
    "axes[1, 0].scatter(x, y, s=1)\n",
    "axes[0, 0].hist(x, bins=200)\n",
    "axes[1, 1].hist(y, bins=200, orientation='horizontal')\n",
    "\n",
    "for z in linspace(-2, 8, num=6):\n",
    "    # z = x + y  =>  y = z - x\n",
    "    # which always has a slope of -1 for any fixed z.\n",
    "    axes[1, 0].axline((z, z), slope=-1, c='orange')"
   ]
  },
  {
   "cell_type": "markdown",
   "id": "fb2905f9",
   "metadata": {},
   "source": [
    "<img src=\"phoz.png\">"
   ]
  },
  {
   "cell_type": "markdown",
   "id": "9fe4eb51",
   "metadata": {},
   "source": [
    "### The orange lines are equal to the z-values."
   ]
  },
  {
   "cell_type": "markdown",
   "id": "27c10ee1",
   "metadata": {},
   "source": [
    "#### Histogramm of $Z$"
   ]
  },
  {
   "cell_type": "code",
   "execution_count": 13,
   "id": "a09eb6a8",
   "metadata": {},
   "outputs": [
    {
     "name": "stdout",
     "output_type": "stream",
     "text": [
      "Using matplotlib backend: MacOSX\n",
      "Populating the interactive namespace from numpy and matplotlib\n"
     ]
    }
   ],
   "source": [
    "%pylab\n",
    "\n",
    "hist(x + y, bins=200)\n",
    "plt.show()"
   ]
  },
  {
   "cell_type": "markdown",
   "id": "bdbad120",
   "metadata": {},
   "source": [
    "<img src=\"Figure_1.png\">"
   ]
  }
 ],
 "metadata": {
  "kernelspec": {
   "display_name": "Python 3",
   "language": "python",
   "name": "python3"
  },
  "language_info": {
   "codemirror_mode": {
    "name": "ipython",
    "version": 3
   },
   "file_extension": ".py",
   "mimetype": "text/x-python",
   "name": "python",
   "nbconvert_exporter": "python",
   "pygments_lexer": "ipython3",
   "version": "3.8.5"
  }
 },
 "nbformat": 4,
 "nbformat_minor": 5
}
