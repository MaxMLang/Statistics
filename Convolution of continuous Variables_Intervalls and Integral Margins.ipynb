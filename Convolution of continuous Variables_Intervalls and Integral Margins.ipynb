{
 "cells": [
  {
   "cell_type": "markdown",
   "id": "f3785316",
   "metadata": {},
   "source": [
    "## Vorgehensweise stetige Faltung mit unterschiedlichem Träger\n",
    "\n",
    "#### 1. Definiere die obere und untere Grenze der Randverteiligen\n",
    "\n",
    "$$\n",
    "\\quad \\begin{array}{l}f_{X}(x)=\\left\\{\\begin{array}{ll}p_{1} & a_{x} \\leq x \\leq b_{y} \\\\ 0 & \\text { sonst }\\end{array}\\right. \\\\ f_{Y}(y)=\\left\\{\\begin{array}{ll}p_{2} & a_{y} \\leq y \\leq b_{y} \\\\ 0 & \\text { sonst }\\end{array}\\right.\\end{array}\n",
    "$$\n",
    "\n",
    "$\\begin{array}{ll}\\text { Untere Grenze: } & a_{x}, a_{y} \\\\ \\text { Obere Grenze: } & b_{x}, b_{y}\\end{array}$ \n",
    "\n",
    "Teile $z$ in die Intervalle ein:\n",
    "\n",
    "$\\min \\left\\{a_{x}, a_{y}\\right\\} \\leq z<\\min \\left\\{b_{x}, b_{y}\\right\\}$\n",
    "\n",
    "$\\min \\left\\{b_{x}, b_{y}\\right\\} \\leq z<\\max \\left\\{b_{x}, b y\\right\\}$\n",
    "\n",
    "$\\max \\left\\{b_{x}, b y\\right\\} \\leq z<b_{x}+b_{y}$\n",
    "\n",
    "Nach diesen Fällen wird unterschieden."
   ]
  },
  {
   "cell_type": "markdown",
   "id": "7cfafdb4",
   "metadata": {},
   "source": [
    "#### Bestimmung der Intervallsgrenzen (pro Intervall)\n",
    "\n",
    "$\n",
    "\\text { Pro Intervall falls s in } f_{y}(s) \\text { und über s integriert wird }\n",
    "$\n",
    "\n",
    "$$\n",
    "\\begin{array}{l}\n",
    "\\int_{s=\\max \\left(z-b_{y}, a_{y}\\right)}^{\\min (z, b_{y})} f_{x}(z-s) f_{y}(s) d s\n",
    "\\end{array}\n",
    "$$"
   ]
  },
  {
   "cell_type": "markdown",
   "id": "0e367151",
   "metadata": {},
   "source": [
    "### Aufgabenbeispiel"
   ]
  },
  {
   "cell_type": "markdown",
   "id": "1690c998",
   "metadata": {},
   "source": [
    "$$\n",
    "\\begin{array}{l}\n",
    "f_{X}(x)=\\left\\{\\begin{array}{cl}\n",
    "\\frac{1}{10} & 0 \\leqslant x \\leqslant 10 \\\\\n",
    "0 & \\text { sonst }\n",
    "\\end{array}\\right. \\\\\n",
    "f_{Y}(y)=\\left\\{\\begin{array}{cc}\n",
    "\\frac{1}{20} & 0 \\leqslant y \\leqslant 20 \\\\\n",
    "0 & \\text { sonst }\n",
    "\\end{array}\\right.\n",
    "\\end{array}\n",
    "$$"
   ]
  },
  {
   "cell_type": "markdown",
   "id": "73181d9d",
   "metadata": {},
   "source": [
    "$\\begin{array}{ll}\\text { Untere Grenze: } & a_{x}= 0, a_{y}= 0 \\\\ \\text { Obere Grenze: } & b_{x}=10, b_{y}=20\\end{array}$ \n",
    "\n",
    "Teile $z$ in die Intervalle ein:\n",
    "\n",
    "$\\min \\left\\{ a_{x}= 0, a_{y}= 0\\right\\}=0 \\leq z<\\min \\left\\{b_{x}=10, b_{y}=20\\right\\}=10$\n",
    "\n",
    "$\\min \\left\\{b_{x}=10, b_{y}=20\\right\\}=10 \\leq z<\\max \\left\\{b_{x}=10, b_{y}=20\\right\\}=20$\n",
    "\n",
    "$\\max \\left\\{b_{x}=10, b_{y}=20\\right\\}=20 \\leq z<(b_{x}=10 + b_{y}=20)=30$\n",
    "\n",
    "Nach diesen Fällen wird unterschieden.\n"
   ]
  },
  {
   "cell_type": "markdown",
   "id": "eb455142",
   "metadata": {},
   "source": [
    "**Falls $0 \\leq z< 10$**\n",
    "\n",
    "$$\n",
    "\\begin{array}{l}\n",
    "\\int_{s=\\max \\left(z-b_{y}, a_{y}\\right)}^{\\min (z, b)} f_{x}(z-s)  f_{y}(s) d s\n",
    "\\end{array}\n",
    "$$\n",
    "\n",
    "$\n",
    "\\begin{array}{l}\n",
    "\\int_{s=\\max \\left(z-20, 0\\right)}^{\\min (z, 20)} f_{x}(z-s), f_{y}(s) d s =\n",
    "\\int_{s=0}^{z} f_{x}(z-s), f_{y}(s) d s\n",
    "\\end{array}\n",
    "$"
   ]
  },
  {
   "cell_type": "markdown",
   "id": "aa2f8371",
   "metadata": {},
   "source": [
    "**Falls $10 \\leq z< 20$**\n",
    "\n",
    "$$\n",
    "\\begin{array}{l}\n",
    "\\int_{s=\\max \\left(z-b_{y}, a_{y}\\right)}^{\\min (z, b)} f_{x}(z-s), f_{y}(s) d s\n",
    "\\end{array}\n",
    "$$\n",
    "\n",
    "$\n",
    "\\begin{array}{l}\n",
    "\\int_{s=\\max \\left(z-20, 0\\right)}^{\\min (z, 20)} f_{x}(z-s) f_{y}(s) d s =\n",
    "\\int_{s=0}^{z} f_{x}(z-s), f_{y}(s) d s\n",
    "\\end{array}\n",
    "$"
   ]
  },
  {
   "cell_type": "markdown",
   "id": "6106b9a8",
   "metadata": {},
   "source": [
    "**Falls $20 \\leq z< 30$**\n",
    "\n",
    "$$\n",
    "\\begin{array}{l}\n",
    "\\int_{s=\\max \\left(z-b_{y}, a_{y}\\right)}^{\\min (z, b)} f_{x}(z-s), f_{y}(s) d s\n",
    "\\end{array}\n",
    "$$\n",
    "\n",
    "$\n",
    "\\begin{array}{l}\n",
    "\\int_{s=\\max \\left(z-20, 0\\right)}^{\\min (z, 20)} f_{x}(z-s) f_{y}(s) d s =\n",
    "\\int_{s=z-10}^{20} f_{x}(z-s), f_{y}(s) d s\n",
    "\\end{array}\n",
    "$"
   ]
  }
 ],
 "metadata": {
  "kernelspec": {
   "display_name": "Python 3",
   "language": "python",
   "name": "python3"
  },
  "language_info": {
   "codemirror_mode": {
    "name": "ipython",
    "version": 3
   },
   "file_extension": ".py",
   "mimetype": "text/x-python",
   "name": "python",
   "nbconvert_exporter": "python",
   "pygments_lexer": "ipython3",
   "version": "3.8.5"
  }
 },
 "nbformat": 4,
 "nbformat_minor": 5
}
